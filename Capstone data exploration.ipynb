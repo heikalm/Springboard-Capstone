{
 "cells": [
  {
   "cell_type": "code",
   "execution_count": 1,
   "metadata": {
    "collapsed": false
   },
   "outputs": [
    {
     "name": "stdout",
     "output_type": "stream",
     "text": [
      "Populating the interactive namespace from numpy and matplotlib\n"
     ]
    }
   ],
   "source": [
    "# import modules\n",
    "\n",
    "import pandas as pd\n",
    "import numpy as np\n",
    "import json\n",
    "from pandas.io.json import json_normalize\n",
    "from geopy.distance import vincenty\n",
    "import re\n",
    "import statsmodels.formula.api as sm\n",
    "%pylab inline\n",
    "\n",
    "# load yelp API\n",
    "\n",
    "from yelp.client import Client\n",
    "from yelp.oauth1_authenticator import Oauth1Authenticator\n",
    "\n",
    "# read API keys\n",
    "with open('config_secret.json') as cred:\n",
    "    creds = json.load(cred)\n",
    "    auth = Oauth1Authenticator(**creds)\n",
    "    client = Client(auth)"
   ]
  },
  {
   "cell_type": "raw",
   "metadata": {
    "collapsed": false
   },
   "source": [
    "# Each Yelp API query returns 20 businesses. total number of businesses allowed to be pulled is 1000 (or 50 queries). Each query returns a SearchResponse object. This code runs the search 50 times and saves the 50 responses in a list.\n",
    "\n",
    "offsetsize = 20 #max number of results per query is 20,\n",
    "location_key = 'Manhattan' #required location keyword - can be city, neighbourhood, country\n",
    "term_key = 'bars' #search keyword\n",
    "responselist=[]\n",
    "\n",
    "for i in range (0,50):  #yelp only returns up to 1000 entries per keyword\n",
    "    params = {\n",
    "        'term': term_key,\n",
    "        'limit': '20',\n",
    "        'offset': i*offsetsize\n",
    "    }\n",
    "\n",
    "    response=client.search(location_key, **params)\n",
    "    responselist.append(response)"
   ]
  },
  {
   "cell_type": "raw",
   "metadata": {},
   "source": [
    "# the SearchResponse object needs to be unpacked. It is nested (like a json) and the following function normalizes the nested information.\n",
    "\n",
    "def yelp_search_unpack(response_object_list):\n",
    "    \n",
    "    response_dict_list=[]\n",
    "    loc_dict_list=[]\n",
    "    coord_dict_list=[]\n",
    "    for i in range(0,50):\n",
    "        r=response_object_list[i]\n",
    "        for j in range(offsetsize):\n",
    "            d=r.businesses[j].__dict__\n",
    "            response_dict_list.append(d)\n",
    "            d=r.businesses[j].location.__dict__\n",
    "            loc_dict_list.append(d)\n",
    "            d=r.businesses[j].location.coordinate.__dict__\n",
    "            coord_dict_list.append(d)\n",
    "    \n",
    "    return pd.concat([pd.DataFrame(response_dict_list),pd.DataFrame(loc_dict_list),pd.DataFrame(coord_dict_list)], axis=1)"
   ]
  },
  {
   "cell_type": "raw",
   "metadata": {},
   "source": [
    "#run search unpack on the list of response objects and save to file\n",
    "\n",
    "df=yelp_search_unpack(responselist)\n",
    "df.to_csv('yelpdf.csv')"
   ]
  },
  {
   "cell_type": "raw",
   "metadata": {
    "collapsed": true
   },
   "source": [
    "# read yelp data from file\n",
    "\n",
    "yelpdf = pd.read_csv('yelpdf.csv', index_col=0)"
   ]
  },
  {
   "cell_type": "raw",
   "metadata": {
    "collapsed": false
   },
   "source": [
    "# read NYC felonies data from file\n",
    "\n",
    "crimedf = pd.read_csv('NYPD_7_Major_Felony_Incident_Map.csv', index_col=0)"
   ]
  },
  {
   "cell_type": "raw",
   "metadata": {
    "collapsed": true
   },
   "source": [
    "# use only 2015 incidents\n",
    "\n",
    "crimedf2015=crimedf[crimedf['Occurrence Year']==2015]"
   ]
  },
  {
   "cell_type": "raw",
   "metadata": {
    "collapsed": false
   },
   "source": [
    "# convert crime dataframe text lat/long coordinates to float tuples. \n",
    "# need to split the string into the lat and long numbers, convert into floats and then combine them into tuples.\n",
    "\n",
    "tupler = lambda x: tuple(map(float, str.split(x[1:-1], sep=',')))\n",
    "\n",
    "crimedf2015['lat_long']=crimedf2015['Location 1'].apply(tupler)"
   ]
  },
  {
   "cell_type": "raw",
   "metadata": {},
   "source": [
    "# create float tuple coordinates from yelp latitude, longitude data\n",
    "\n",
    "yelpdf['lat_long'] = yelpdf[['latitude', 'longitude']].apply(tuple, axis=1)"
   ]
  },
  {
   "cell_type": "raw",
   "metadata": {
    "collapsed": false
   },
   "source": [
    "# define distance calculation function using Vincenty's formula from lat/long pairs\n",
    "\n",
    "def dist_calc(pointA, pointB):\n",
    "    return vincenty(pointA, pointB).miles"
   ]
  },
  {
   "cell_type": "raw",
   "metadata": {
    "collapsed": false
   },
   "source": [
    "# crime filter: for any given point, return the list of felony IDs within the threshold\n",
    "\n",
    "def crime_list(pointA, crimetable, threshold=0.25):\n",
    "    list_of_distances=[]\n",
    "    df=crimetable\n",
    "    for crimeloc in df.lat_long:\n",
    "        list_of_distances.append(dist_calc(pointA, crimeloc))\n",
    "    df_of_crimes=pd.DataFrame({'Identifier':df.Identifier, 'Offense':df.Offense,'Distance':list_of_distances })\n",
    "    return df_of_crimes[df_of_crimes.Distance<threshold]"
   ]
  },
  {
   "cell_type": "raw",
   "metadata": {},
   "source": [
    "# initiate empty dictionary for counts of crimes for use in next step\n",
    "\n",
    "for felony in list(unique(crimedf2015.Offense)):\n",
    "    print(felony)\n",
    "    crime_dict={felony:[]}"
   ]
  },
  {
   "cell_type": "raw",
   "metadata": {
    "collapsed": false
   },
   "source": [
    "# build crime index list for specific yelp_ids for bars in Manhattan as pulled from yelp API - using 2015 crimes \n",
    "\n",
    "for bizlocation in yelpdf.lat_long:\n",
    "    biz_crime_list=crime_list(bizlocation, crimedf2015)\n",
    "    for felony in list(unique(crimedf2015.Offense)):\n",
    "        crime_dict[felony].append(sum(biz_crime_list.Offense==felony))"
   ]
  },
  {
   "cell_type": "raw",
   "metadata": {},
   "source": [
    "# make crime index list into dataframe\n",
    "\n",
    "crime_df_by_bizlocation=pd.DataFrame(crime_dict)"
   ]
  },
  {
   "cell_type": "raw",
   "metadata": {},
   "source": [
    "# combine yelp df with crime df\n",
    "\n",
    "yelpcrimedf=pd.concat([yelpdf,crime_df_by_bizlocation], axis=1)"
   ]
  },
  {
   "cell_type": "raw",
   "metadata": {},
   "source": [
    "# save to csv\n",
    "\n",
    "yelpcrimedf.to_csv(path_or_buf='yelpcrimedf.csv')"
   ]
  },
  {
   "cell_type": "code",
   "execution_count": 20,
   "metadata": {
    "collapsed": false
   },
   "outputs": [],
   "source": [
    "# read combined yelp and crime data csv\n",
    "\n",
    "yelpcrimedf = pd.read_csv('yelpcrimedf.csv', index_col=0)"
   ]
  },
  {
   "cell_type": "code",
   "execution_count": 21,
   "metadata": {
    "collapsed": false,
    "scrolled": true
   },
   "outputs": [
    {
     "name": "stdout",
     "output_type": "stream",
     "text": [
      "  code                       full_name\n",
      "0  BUR                        BURGLARY\n",
      "1  ASS                  FELONY ASSAULT\n",
      "2  LAR                   GRAND LARCENY\n",
      "3  GTA  GRAND LARCENY OF MOTOR VEHICLE\n",
      "4  MUR  MURDER & NON-NEGL. MANSLAUGHTE\n",
      "5  RAP                            RAPE\n",
      "6  ROB                         ROBBERY\n"
     ]
    }
   ],
   "source": [
    "# abbreviate crime names\n",
    "\n",
    "felonyfull=list(yelpcrimedf.columns[-7:])\n",
    "felonyabbrv=['BUR','ASS','LAR','GTA','MUR','RAP','ROB']\n",
    "felony_ref=pd.DataFrame({'code':felonyabbrv, 'full_name':felonyfull})\n",
    "print(felony_ref)"
   ]
  },
  {
   "cell_type": "code",
   "execution_count": 22,
   "metadata": {
    "collapsed": false
   },
   "outputs": [],
   "source": [
    "# rename crime columns with 3 letter code\n",
    "\n",
    "yelpcrimedf.rename(columns=dict(zip(felony_ref.full_name, felony_ref.code)), inplace=True)"
   ]
  },
  {
   "cell_type": "code",
   "execution_count": 23,
   "metadata": {
    "collapsed": false
   },
   "outputs": [],
   "source": [
    "# sum of felonies by business\n",
    "\n",
    "yelpcrimedf['TOT']=yelpcrimedf[felonyabbrv].sum(axis=1)"
   ]
  },
  {
   "cell_type": "code",
   "execution_count": null,
   "metadata": {
    "collapsed": true
   },
   "outputs": [],
   "source": []
  },
  {
   "cell_type": "code",
   "execution_count": 6,
   "metadata": {
    "collapsed": true
   },
   "outputs": [],
   "source": [
    "# create category aliases using Category data\n",
    "\n",
    "category_alias_unpacker = lambda x: re.findall(\"alias='(\\w+)'\", x)\n",
    "\n",
    "yelpcrimedf['cat_alias']=yelpcrimedf['categories'].apply(category_alias_unpacker)"
   ]
  },
  {
   "cell_type": "code",
   "execution_count": 821,
   "metadata": {
    "collapsed": false
   },
   "outputs": [
    {
     "data": {
      "text/plain": [
       "['Midtown West', \"Hell's Kitchen\"]"
      ]
     },
     "execution_count": 821,
     "metadata": {},
     "output_type": "execute_result"
    }
   ],
   "source": [
    "from ast import literal_eval\n",
    "literal_eval(yelpcrimedf.neighborhoods[1])"
   ]
  },
  {
   "cell_type": "code",
   "execution_count": 8,
   "metadata": {
    "collapsed": false,
    "scrolled": true
   },
   "outputs": [
    {
     "data": {
      "image/png": "[encoded data removed]",
      "text/plain": [
       "<matplotlib.figure.Figure at 0x108c3a6d8>"
      ]
     },
     "metadata": {},
     "output_type": "display_data"
    }
   ],
   "source": [
    "# histogram of crime scores\n",
    "\n",
    "fig, ax = plt.subplots()\n",
    "\n",
    "H = ax.hist(yelpcrimedf['BUR'], bins=100, alpha=0.5, histtype='stepfilled')"
   ]
  },
  {
   "cell_type": "code",
   "execution_count": 766,
   "metadata": {
    "collapsed": false,
    "scrolled": true
   },
   "outputs": [
    {
     "data": {
      "image/png": "[encoded data removed]",
      "text/plain": [
       "<matplotlib.figure.Figure at 0x112df43c8>"
      ]
     },
     "metadata": {},
     "output_type": "display_data"
    }
   ],
   "source": [
    "# histogram of ratings\n",
    "\n",
    "fig, ax = plt.subplots()\n",
    "\n",
    "H = ax.hist(yelpcrimedf['rating'], bins=5, alpha=0.5, histtype='stepfilled')"
   ]
  },
  {
   "cell_type": "code",
   "execution_count": 12,
   "metadata": {
    "collapsed": false
   },
   "outputs": [
    {
     "name": "stderr",
     "output_type": "stream",
     "text": [
      "/Users/Heikal/anaconda/lib/python3.4/site-packages/matplotlib/collections.py:590: FutureWarning: elementwise comparison failed; returning scalar instead, but in the future will perform elementwise comparison\n",
      "  if self._edgecolors == str('face'):\n"
     ]
    },
    {
     "data": {
      "image/png": "[encoded data removed]",
      "text/plain": [
       "<matplotlib.figure.Figure at 0x10902acf8>"
      ]
     },
     "metadata": {},
     "output_type": "display_data"
    }
   ],
   "source": [
    "# scatterplot of crime score vs ratings\n",
    "\n",
    "fig, ax = plt.subplots()\n",
    "im = ax.scatter(yelpcrimedf['crime_score'], crimeindexdf['rating'],  cmap=plt.cm.jet)"
   ]
  },
  {
   "cell_type": "code",
   "execution_count": 15,
   "metadata": {
    "collapsed": false
   },
   "outputs": [],
   "source": [
    "#need a way to easily slice across categories\n",
    "\n",
    "#build list of unique category aliases\n",
    "\n",
    "unique_cat_alias=[]\n",
    "for x in crimeindexdf.cat_alias:\n",
    "    for y in x:\n",
    "        unique_cat_alias.append(y)\n",
    "unique_cat_alias=list(set(unique_cat_alias))\n",
    "\n",
    "    "
   ]
  },
  {
   "cell_type": "code",
   "execution_count": null,
   "metadata": {
    "collapsed": false
   },
   "outputs": [],
   "source": []
  },
  {
   "cell_type": "code",
   "execution_count": 51,
   "metadata": {
    "collapsed": false
   },
   "outputs": [],
   "source": [
    "#create function to take in category name as input and creates crime index df for that category as output"
   ]
  },
  {
   "cell_type": "code",
   "execution_count": null,
   "metadata": {
    "collapsed": false
   },
   "outputs": [],
   "source": []
  },
  {
   "cell_type": "code",
   "execution_count": null,
   "metadata": {
    "collapsed": false
   },
   "outputs": [],
   "source": []
  },
  {
   "cell_type": "code",
   "execution_count": null,
   "metadata": {
    "collapsed": true
   },
   "outputs": [],
   "source": []
  },
  {
   "cell_type": "code",
   "execution_count": null,
   "metadata": {
    "collapsed": true
   },
   "outputs": [],
   "source": []
  }
 ],
 "metadata": {
  "kernelspec": {
   "display_name": "Python 3",
   "language": "python",
   "name": "python3"
  },
  "language_info": {
   "codemirror_mode": {
    "name": "ipython",
    "version": 3
   },
   "file_extension": ".py",
   "mimetype": "text/x-python",
   "name": "python",
   "nbconvert_exporter": "python",
   "pygments_lexer": "ipython3",
   "version": "3.4.4"
  }
 },
 "nbformat": 4,
 "nbformat_minor": 0
}
