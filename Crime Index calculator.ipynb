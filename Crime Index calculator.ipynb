{
 "cells": [
  {
   "cell_type": "code",
   "execution_count": 1,
   "metadata": {
    "collapsed": false
   },
   "outputs": [
    {
     "name": "stdout",
     "output_type": "stream",
     "text": [
      "Populating the interactive namespace from numpy and matplotlib\n"
     ]
    }
   ],
   "source": [
    "# import modules\n",
    "\n",
    "import pandas as pd\n",
    "import numpy as np\n",
    "import json\n",
    "from pandas.io.json import json_normalize\n",
    "from geopy.distance import vincenty\n",
    "import re\n",
    "import statsmodels.formula.api as sm\n",
    "from scipy.stats import gaussian_kde\n",
    "%pylab inline"
   ]
  },
  {
   "cell_type": "code",
   "execution_count": 2,
   "metadata": {
    "collapsed": true
   },
   "outputs": [],
   "source": [
    "crimedf = pd.read_csv('NYPD_7_Major_Felony_Incident_Map.csv', index_col=0)"
   ]
  },
  {
   "cell_type": "code",
   "execution_count": 3,
   "metadata": {
    "collapsed": true
   },
   "outputs": [],
   "source": [
    "# use only 2015 incidents\n",
    "\n",
    "crimedf2015=crimedf[crimedf['Occurrence Year']==2015]"
   ]
  },
  {
   "cell_type": "code",
   "execution_count": 4,
   "metadata": {
    "collapsed": false
   },
   "outputs": [
    {
     "name": "stderr",
     "output_type": "stream",
     "text": [
      "/Library/Frameworks/Python.framework/Versions/3.4/lib/python3.4/site-packages/ipykernel/__main__.py:6: SettingWithCopyWarning: \n",
      "A value is trying to be set on a copy of a slice from a DataFrame.\n",
      "Try using .loc[row_indexer,col_indexer] = value instead\n",
      "\n",
      "See the caveats in the documentation: http://pandas.pydata.org/pandas-docs/stable/indexing.html#indexing-view-versus-copy\n"
     ]
    }
   ],
   "source": [
    "# convert crime dataframe text lat/long coordinates to float tuples. \n",
    "# need to split the string into the lat and long numbers, convert into floats and then combine them into tuples.\n",
    "\n",
    "tupler = lambda x: tuple(map(float, str.split(x[1:-1], sep=',')))\n",
    "\n",
    "crimedf2015['lat_long']=crimedf2015['Location 1'].apply(tupler)"
   ]
  },
  {
   "cell_type": "code",
   "execution_count": 5,
   "metadata": {
    "collapsed": true
   },
   "outputs": [],
   "source": [
    "# define distance calculation function using Vincenty's formula from lat/long pairs\n",
    "\n",
    "def dist_calc(pointA, pointB):\n",
    "    return vincenty(pointA, pointB).miles"
   ]
  },
  {
   "cell_type": "code",
   "execution_count": 115,
   "metadata": {
    "collapsed": true
   },
   "outputs": [],
   "source": [
    "# crime filter: for any given point, return the list of felony IDs within the threshold\n",
    "\n",
    "def crime_list(pointA, crimetable=crimedf2015, threshold=0.25):\n",
    "    list_of_distances=[]\n",
    "    df=crimetable\n",
    "    for crimeloc in df.lat_long:\n",
    "        list_of_distances.append(dist_calc(pointA, crimeloc))\n",
    "    df_of_crimes=pd.DataFrame({'Identifier':df.Identifier, 'Offense':df.Offense,'Distance':list_of_distances })\n",
    "    return df_of_crimes[df_of_crimes.Distance<threshold]"
   ]
  },
  {
   "cell_type": "code",
   "execution_count": 143,
   "metadata": {
    "collapsed": false
   },
   "outputs": [],
   "source": [
    "# crime counter: for any given point, count the number of each type of felony and the total number\n",
    "\n",
    "crime_type_list=list(unique(crimedf2015.Offense))\n",
    "\n",
    "def crime_counter(pointA, crimetable=crimedf2015, threshold=0.25):\n",
    "    df=crime_list(pointA, crimetable)\n",
    "    fel_name=[]\n",
    "    fel_count=[]\n",
    "    for felony in crime_type_list + ['TOTAL FELONIES']:\n",
    "        fel_name.append(felony)\n",
    "        if felony == 'TOTAL FELONIES':\n",
    "            fel_count.append(len(df))\n",
    "        else:\n",
    "            fel_count.append(sum(df.Offense==felony))\n",
    "    \n",
    "    return pd.DataFrame({'felony' : fel_name, 'felony_count' : fel_count})"
   ]
  },
  {
   "cell_type": "code",
   "execution_count": 102,
   "metadata": {
    "collapsed": false
   },
   "outputs": [],
   "source": [
    "fel_name=[]\n",
    "fel_mean=[]\n",
    "fel_std=[]\n",
    "cuff_threshold_1=[]\n",
    "cuff_threshold_2=[]\n",
    "cuff_threshold_3=[]\n",
    "cuff_threshold_4=[]\n",
    "for felony in crime_type_list + ['TOTAL FELONIES']:\n",
    "    name_of_felony=felony\n",
    "    mean_of_felony=mean(yelpcrimedf[felony])\n",
    "    std_of_felony=yelpcrimedf[felony].std(axis=0)\n",
    "    thresh1=mean_of_felony-1.5*std_of_felony\n",
    "    thresh2=mean_of_felony-0.5*std_of_felony\n",
    "    thresh3=mean_of_felony+0.5*std_of_felony\n",
    "    thresh4=mean_of_felony+1.5*std_of_felony\n",
    "    \n",
    "    fel_name.append(name_of_felony)\n",
    "    fel_mean.append(mean_of_felony)\n",
    "    fel_std.append(std_of_felony)\n",
    "    cuff_threshold_1.append(thresh1)\n",
    "    cuff_threshold_2.append(thresh2)\n",
    "    cuff_threshold_3.append(thresh3)\n",
    "    cuff_threshold_4.append(thresh4)\n",
    "\n",
    "thresholds=pd.DataFrame({'felony' : fel_name, 'thresh1' : cuff_threshold_1, 'thresh2' : cuff_threshold_2, 'thresh3' : cuff_threshold_3, 'thresh4' : cuff_threshold_4})"
   ]
  },
  {
   "cell_type": "code",
   "execution_count": 246,
   "metadata": {
    "collapsed": false,
    "scrolled": true
   },
   "outputs": [],
   "source": [
    "# cuff_rating: for any location, determine what cuff rating they belong to based on the threshold values\n",
    "\n",
    "def cuff_rating(pointA, crimetable=crimedf2015):\n",
    "    df=crime_counter(pointA)\n",
    "    df['< thresh1']=df.felony_count<thresholds.thresh1\n",
    "    df['< thresh2']=df.felony_count<thresholds.thresh2\n",
    "    df['< thresh3']=df.felony_count<thresholds.thresh3\n",
    "    df['< thresh4']=df.felony_count<thresholds.thresh4\n",
    "    df['cuff_rating']=5-df[['< thresh1','< thresh2','< thresh3','< thresh4']].sum(axis=1)\n",
    "    \n",
    "    overall_cuff_rating=df['cuff_rating'][7]\n",
    "    \n",
    "    return overall_cuff_rating, df[['felony', 'cuff_rating']]"
   ]
  },
  {
   "cell_type": "code",
   "execution_count": 247,
   "metadata": {
    "collapsed": false
   },
   "outputs": [],
   "source": [
    "location=(40.721886, -73.996749)"
   ]
  },
  {
   "cell_type": "code",
   "execution_count": 248,
   "metadata": {
    "collapsed": false
   },
   "outputs": [],
   "source": [
    "rating, df = cuff_rating(location)"
   ]
  },
  {
   "cell_type": "code",
   "execution_count": 249,
   "metadata": {
    "collapsed": false
   },
   "outputs": [
    {
     "data": {
      "text/plain": [
       "4"
      ]
     },
     "execution_count": 249,
     "metadata": {},
     "output_type": "execute_result"
    }
   ],
   "source": [
    "rating"
   ]
  },
  {
   "cell_type": "code",
   "execution_count": 250,
   "metadata": {
    "collapsed": false
   },
   "outputs": [
    {
     "data": {
      "text/html": [
       "<div>\n",
       "<table border=\"1\" class=\"dataframe\">\n",
       "  <thead>\n",
       "    <tr style=\"text-align: right;\">\n",
       "      <th></th>\n",
       "      <th>felony</th>\n",
       "      <th>cuff_rating</th>\n",
       "    </tr>\n",
       "  </thead>\n",
       "  <tbody>\n",
       "    <tr>\n",
       "      <th>0</th>\n",
       "      <td>BURGLARY</td>\n",
       "      <td>4</td>\n",
       "    </tr>\n",
       "    <tr>\n",
       "      <th>1</th>\n",
       "      <td>FELONY ASSAULT</td>\n",
       "      <td>3</td>\n",
       "    </tr>\n",
       "    <tr>\n",
       "      <th>2</th>\n",
       "      <td>GRAND LARCENY</td>\n",
       "      <td>4</td>\n",
       "    </tr>\n",
       "    <tr>\n",
       "      <th>3</th>\n",
       "      <td>GRAND LARCENY OF MOTOR VEHICLE</td>\n",
       "      <td>1</td>\n",
       "    </tr>\n",
       "    <tr>\n",
       "      <th>4</th>\n",
       "      <td>MURDER &amp; NON-NEGL. MANSLAUGHTE</td>\n",
       "      <td>3</td>\n",
       "    </tr>\n",
       "    <tr>\n",
       "      <th>5</th>\n",
       "      <td>RAPE</td>\n",
       "      <td>2</td>\n",
       "    </tr>\n",
       "    <tr>\n",
       "      <th>6</th>\n",
       "      <td>ROBBERY</td>\n",
       "      <td>3</td>\n",
       "    </tr>\n",
       "    <tr>\n",
       "      <th>7</th>\n",
       "      <td>TOTAL FELONIES</td>\n",
       "      <td>4</td>\n",
       "    </tr>\n",
       "  </tbody>\n",
       "</table>\n",
       "</div>"
      ],
      "text/plain": [
       "                           felony  cuff_rating\n",
       "0                        BURGLARY            4\n",
       "1                  FELONY ASSAULT            3\n",
       "2                   GRAND LARCENY            4\n",
       "3  GRAND LARCENY OF MOTOR VEHICLE            1\n",
       "4  MURDER & NON-NEGL. MANSLAUGHTE            3\n",
       "5                            RAPE            2\n",
       "6                         ROBBERY            3\n",
       "7                  TOTAL FELONIES            4"
      ]
     },
     "execution_count": 250,
     "metadata": {},
     "output_type": "execute_result"
    }
   ],
   "source": [
    "df"
   ]
  },
  {
   "cell_type": "code",
   "execution_count": 254,
   "metadata": {
    "collapsed": true
   },
   "outputs": [],
   "source": [
    "def manual_input():\n",
    "    print('input latitude:')\n",
    "    lat=input()\n",
    "    print('input longitude:')\n",
    "    lon=input()\n",
    "    location = (float(lat),float(lon))\n",
    "    rating, df = cuff_rating(location)\n",
    "    \n",
    "    print('The cuff rating for this location is ', rating)\n",
    "    print()\n",
    "    print('The cuff rating breakdown per felony type is as follows:')\n",
    "    print(df)"
   ]
  },
  {
   "cell_type": "code",
   "execution_count": 255,
   "metadata": {
    "collapsed": false
   },
   "outputs": [
    {
     "name": "stdout",
     "output_type": "stream",
     "text": [
      "input latitude:\n",
      "40.721886\n",
      "input longitude:\n",
      "-73.996749\n",
      "The cuff rating for this location is  4\n",
      "\n",
      "The cuff rating breakdown per felony type is as follows:\n",
      "                           felony  cuff_rating\n",
      "0                        BURGLARY            4\n",
      "1                  FELONY ASSAULT            3\n",
      "2                   GRAND LARCENY            4\n",
      "3  GRAND LARCENY OF MOTOR VEHICLE            1\n",
      "4  MURDER & NON-NEGL. MANSLAUGHTE            3\n",
      "5                            RAPE            2\n",
      "6                         ROBBERY            3\n",
      "7                  TOTAL FELONIES            4\n"
     ]
    }
   ],
   "source": [
    "manual_input()"
   ]
  },
  {
   "cell_type": "code",
   "execution_count": null,
   "metadata": {
    "collapsed": true
   },
   "outputs": [],
   "source": []
  }
 ],
 "metadata": {
  "kernelspec": {
   "display_name": "Python 3",
   "language": "python",
   "name": "python3"
  },
  "language_info": {
   "codemirror_mode": {
    "name": "ipython",
    "version": 3
   },
   "file_extension": ".py",
   "mimetype": "text/x-python",
   "name": "python",
   "nbconvert_exporter": "python",
   "pygments_lexer": "ipython3",
   "version": "3.4.3"
  }
 },
 "nbformat": 4,
 "nbformat_minor": 1
}
